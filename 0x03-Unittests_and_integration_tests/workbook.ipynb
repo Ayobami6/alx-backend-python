{
 "cells": [
  {
   "cell_type": "code",
   "execution_count": 6,
   "metadata": {},
   "outputs": [],
   "source": [
    "from typing import Mapping, Sequence, Any, Dict, Callable"
   ]
  },
  {
   "cell_type": "code",
   "execution_count": 4,
   "metadata": {},
   "outputs": [
    {
     "name": "stdout",
     "output_type": "stream",
     "text": [
      "<class 'typing._SpecialGenericAlias'>\n"
     ]
    }
   ],
   "source": [
    "print(type(Mapping))"
   ]
  },
  {
   "cell_type": "code",
   "execution_count": 8,
   "metadata": {},
   "outputs": [
    {
     "name": "stdout",
     "output_type": "stream",
     "text": [
      "<class 'typing._SpecialGenericAlias'>\n"
     ]
    }
   ],
   "source": [
    "print(type(Sequence))"
   ]
  },
  {
   "cell_type": "code",
   "execution_count": 11,
   "metadata": {},
   "outputs": [],
   "source": [
    "from utils import access_nested_map, get_json, memoize\n",
    "import requests"
   ]
  },
  {
   "cell_type": "code",
   "execution_count": null,
   "metadata": {},
   "outputs": [],
   "source": [
    "test_url=\"http://holberton.io\"\n",
    "get_json(test_url)"
   ]
  },
  {
   "cell_type": "code",
   "execution_count": 14,
   "metadata": {},
   "outputs": [
    {
     "name": "stdout",
     "output_type": "stream",
     "text": [
      "add\n"
     ]
    }
   ],
   "source": [
    "def add(a, b) -> int:\n",
    "    return a + b\n",
    "\n",
    "\n",
    "print(add.__name__)"
   ]
  },
  {
   "cell_type": "code",
   "execution_count": null,
   "metadata": {},
   "outputs": [],
   "source": [
    "import unittest\n",
    "from utils import memoize\n",
    "\n",
    "class TestMemoize(unittest.TestCase):\n",
    "    def test_memoize(self):\n",
    "        class MyClass:\n",
    "            def __init__(self):\n",
    "                self.count = 0\n",
    "\n",
    "            @memoize\n",
    "            def a_method(self):\n",
    "                self.count += 1\n",
    "                return self.count\n",
    "\n",
    "        my_object = MyClass()\n",
    "        self.assertEqual(my_object.a_method, 1)\n",
    "        self.assertEqual(my_object.a_method, 1)\n",
    "        self.assertEqual(my_object.a_method, 1)\n",
    "\n"
   ]
  }
 ],
 "metadata": {
  "kernelspec": {
   "display_name": "Python 3",
   "language": "python",
   "name": "python3"
  },
  "language_info": {
   "codemirror_mode": {
    "name": "ipython",
    "version": 3
   },
   "file_extension": ".py",
   "mimetype": "text/x-python",
   "name": "python",
   "nbconvert_exporter": "python",
   "pygments_lexer": "ipython3",
   "version": "3.10.6"
  },
  "orig_nbformat": 4
 },
 "nbformat": 4,
 "nbformat_minor": 2
}
