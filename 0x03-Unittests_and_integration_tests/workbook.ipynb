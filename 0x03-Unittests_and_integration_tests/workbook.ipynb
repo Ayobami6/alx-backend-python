{
 "cells": [
  {
   "cell_type": "code",
   "execution_count": 6,
   "metadata": {},
   "outputs": [],
   "source": [
    "from typing import Mapping, Sequence, Any, Dict, Callable"
   ]
  },
  {
   "cell_type": "code",
   "execution_count": 4,
   "metadata": {},
   "outputs": [
    {
     "name": "stdout",
     "output_type": "stream",
     "text": [
      "<class 'typing._SpecialGenericAlias'>\n"
     ]
    }
   ],
   "source": [
    "print(type(Mapping))"
   ]
  },
  {
   "cell_type": "code",
   "execution_count": 8,
   "metadata": {},
   "outputs": [
    {
     "name": "stdout",
     "output_type": "stream",
     "text": [
      "<class 'typing._SpecialGenericAlias'>\n"
     ]
    }
   ],
   "source": [
    "print(type(Sequence))"
   ]
  },
  {
   "cell_type": "code",
   "execution_count": 11,
   "metadata": {},
   "outputs": [],
   "source": [
    "from utils import access_nested_map, get_json, memoize\n",
    "import requests"
   ]
  },
  {
   "cell_type": "code",
   "execution_count": null,
   "metadata": {},
   "outputs": [],
   "source": [
    "test_url=\"http://holberton.io\"\n",
    "get_json(test_url)"
   ]
  },
  {
   "cell_type": "code",
   "execution_count": 14,
   "metadata": {},
   "outputs": [
    {
     "name": "stdout",
     "output_type": "stream",
     "text": [
      "add\n"
     ]
    }
   ],
   "source": [
    "def add(a, b) -> int:\n",
    "    return a + b\n",
    "\n",
    "\n",
    "print(add.__name__)"
   ]
  },
  {
   "cell_type": "code",
   "execution_count": 22,
   "metadata": {},
   "outputs": [
    {
     "data": {
      "text/plain": [
       "42"
      ]
     },
     "execution_count": 22,
     "metadata": {},
     "output_type": "execute_result"
    }
   ],
   "source": [
    "class TestClass:\n",
    "\n",
    "    def a_method(self) -> int:\n",
    "        \"\"\" A method \"\"\"\n",
    "        return 42\n",
    "\n",
    "    @memoize\n",
    "    def a_property(self) -> int:\n",
    "        \"\"\" decorated property method \"\"\"\n",
    "        return self.a_method()\n",
    "\n",
    "\n",
    "test = TestClass()\n",
    "\n",
    "test.a_method()"
   ]
  },
  {
   "cell_type": "code",
   "execution_count": 6,
   "metadata": {},
   "outputs": [
    {
     "name": "stdout",
     "output_type": "stream",
     "text": [
      "episodes.dart\n",
      "cpp-netlib\n",
      "dagger\n",
      "ios-webkit-debug-proxy\n",
      "google.github.io\n",
      "kratu\n",
      "build-debian-cloud\n",
      "traceur-compiler\n",
      "firmata.py\n"
     ]
    }
   ],
   "source": [
    "from fixtures import TEST_PAYLOAD\n",
    "test = TEST_PAYLOAD[0][1]\n",
    "for repo in test:\n",
    "    print(repo[\"name\"])"
   ]
  }
 ],
 "metadata": {
  "kernelspec": {
   "display_name": "Python 3",
   "language": "python",
   "name": "python3"
  },
  "language_info": {
   "codemirror_mode": {
    "name": "ipython",
    "version": 3
   },
   "file_extension": ".py",
   "mimetype": "text/x-python",
   "name": "python",
   "nbconvert_exporter": "python",
   "pygments_lexer": "ipython3",
   "version": "3.10.6"
  },
  "orig_nbformat": 4
 },
 "nbformat": 4,
 "nbformat_minor": 2
}
